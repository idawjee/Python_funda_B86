{
 "cells": [
  {
   "cell_type": "markdown",
   "id": "f73d9204-872e-41df-8c1d-1d2adf2dee52",
   "metadata": {},
   "source": [
    "# ll "
   ]
  },
  {
   "cell_type": "code",
   "execution_count": 1,
   "id": "6580d245-247a-4158-ac85-38c2f6365de5",
   "metadata": {},
   "outputs": [
    {
     "name": "stdout",
     "output_type": "stream",
     "text": [
      "Hello all welcome to python programming world\n"
     ]
    }
   ],
   "source": [
    "print(\"Hello all welcome to python programming world\")"
   ]
  },
  {
   "cell_type": "code",
   "execution_count": null,
   "id": "5fa705bb-0c8b-4625-b727-d3d84c43773c",
   "metadata": {},
   "outputs": [],
   "source": [
    "understanding variables"
   ]
  },
  {
   "cell_type": "code",
   "execution_count": 26,
   "id": "babff552-0b42-444d-b333-a75e737e3dbc",
   "metadata": {},
   "outputs": [
    {
     "name": "stdout",
     "output_type": "stream",
     "text": [
      "5\n"
     ]
    }
   ],
   "source": [
    "x = 2\n",
    "y = 3\n",
    "z = x+y\n",
    "print (z)"
   ]
  },
  {
   "cell_type": "raw",
   "id": "deae382e-23bc-48a0-b1ae-7dd7bf50a777",
   "metadata": {},
   "source": [
    "Rules for understanding variable"
   ]
  },
  {
   "cell_type": "code",
   "execution_count": null,
   "id": "91592cf9-0de3-4c03-8b0f-cc4e428032b3",
   "metadata": {},
   "outputs": [],
   "source": [
    "Rule 1 No name spaces while declaring varibales eg first name X"
   ]
  },
  {
   "cell_type": "code",
   "execution_count": 23,
   "id": "9d809c8e-99ed-443d-9dc1-0da113ee302c",
   "metadata": {},
   "outputs": [
    {
     "name": "stdout",
     "output_type": "stream",
     "text": [
      "Fayaz\n"
     ]
    }
   ],
   "source": [
    "firstname = \"Fayaz\"\n",
    "print (firstname)"
   ]
  },
  {
   "cell_type": "code",
   "execution_count": null,
   "id": "851deb95-aad1-4271-a8bf-74b69692ba31",
   "metadata": {},
   "outputs": [],
   "source": [
    "Rule 2 A variabe should not start with number **\n",
    "1name it should be name1"
   ]
  },
  {
   "cell_type": "code",
   "execution_count": null,
   "id": "14183777-ab80-4c7a-8b0e-dac5ac5074ba",
   "metadata": {},
   "outputs": [],
   "source": [
    "Rule 3 Avariable name should not contain special character\n",
    "@ # $ % &"
   ]
  },
  {
   "cell_type": "code",
   "execution_count": null,
   "id": "5f7ce9dd-9176-447e-be67-07bcb3f89fcb",
   "metadata": {},
   "outputs": [],
   "source": [
    "Introduction to Data types \n",
    "1 String ==> str\n",
    "2. Integer ==> int  & floats (decimal) float (0.1, 0.2)\n",
    "3. List ==> list\n",
    "4. tuples ==> tuple\n",
    "5 dictionaries ==> dict"
   ]
  },
  {
   "cell_type": "code",
   "execution_count": null,
   "id": "04a27d06-2a42-4ca7-814f-98ddef940289",
   "metadata": {},
   "outputs": [],
   "source": [
    "Classification of data types broadly classified in 2 catagories \n",
    "1. mutable can edit alter flexible in nature\n",
    "2. immutable can not edit alter fixed in nature"
   ]
  },
  {
   "cell_type": "code",
   "execution_count": null,
   "id": "39b0e686-f455-4c00-89a1-ed24220158b2",
   "metadata": {},
   "outputs": [],
   "source": [
    "hoe to detect the string data type?\n",
    "approach 1 single quote\n",
    "approach 2 double quote"
   ]
  },
  {
   "cell_type": "code",
   "execution_count": 5,
   "id": "774a1bbe-c1e4-417f-b366-dc06ff25468e",
   "metadata": {},
   "outputs": [
    {
     "name": "stdout",
     "output_type": "stream",
     "text": [
      "Prasanna\n"
     ]
    }
   ],
   "source": [
    "name = 'Prasanna' # single quote\n",
    "print (name)"
   ]
  },
  {
   "cell_type": "code",
   "execution_count": null,
   "id": "c6f804fb-5dc3-4f12-b23d-1111ed494cb2",
   "metadata": {},
   "outputs": [],
   "source": []
  },
  {
   "cell_type": "code",
   "execution_count": 6,
   "id": "544a4208-de9e-4cdf-9c1a-3191602c2f2d",
   "metadata": {},
   "outputs": [
    {
     "name": "stdout",
     "output_type": "stream",
     "text": [
      "joseph\n"
     ]
    }
   ],
   "source": [
    "name2 = \"joseph\"\n",
    "print (name2)"
   ]
  },
  {
   "cell_type": "code",
   "execution_count": null,
   "id": "19946f8c-9413-4817-af26-594227955ea2",
   "metadata": {},
   "outputs": [],
   "source": [
    "Intro to Spring methods :"
   ]
  },
  {
   "cell_type": "code",
   "execution_count": 7,
   "id": "237cf51c-9359-43d5-8528-3449788c9a21",
   "metadata": {},
   "outputs": [
    {
     "data": {
      "text/plain": [
       "str"
      ]
     },
     "execution_count": 7,
     "metadata": {},
     "output_type": "execute_result"
    }
   ],
   "source": [
    "type (name)"
   ]
  },
  {
   "cell_type": "code",
   "execution_count": 8,
   "id": "5c8e4c78-74a9-46cf-a5fc-c03b3237781d",
   "metadata": {},
   "outputs": [
    {
     "name": "stdout",
     "output_type": "stream",
     "text": [
      "babji aluri\n"
     ]
    }
   ],
   "source": [
    "fullname = 'babji aluri'\n",
    "print (fullname)"
   ]
  },
  {
   "cell_type": "code",
   "execution_count": 10,
   "id": "3a6976af-7d84-46e6-9fe2-e36a9dc8a676",
   "metadata": {},
   "outputs": [
    {
     "name": "stdout",
     "output_type": "stream",
     "text": [
      "Babji Aluri\n"
     ]
    }
   ],
   "source": [
    "print(fullname.title())"
   ]
  },
  {
   "cell_type": "code",
   "execution_count": null,
   "id": "6234bdd4-86a1-47fa-a01a-cb9912280bc7",
   "metadata": {},
   "outputs": [],
   "source": [
    "All caps"
   ]
  },
  {
   "cell_type": "code",
   "execution_count": 13,
   "id": "916a1049-2300-4410-aed5-5bd65b6cbbc8",
   "metadata": {},
   "outputs": [
    {
     "name": "stdout",
     "output_type": "stream",
     "text": [
      "BABJI ALURI\n"
     ]
    }
   ],
   "source": [
    "print (fullname.upper())"
   ]
  },
  {
   "cell_type": "code",
   "execution_count": null,
   "id": "299c17bb-799d-4ce1-a273-63f99297aae3",
   "metadata": {},
   "outputs": [],
   "source": [
    "Lowercase"
   ]
  },
  {
   "cell_type": "code",
   "execution_count": 14,
   "id": "2a4fb679-ec68-4593-9fd6-6fcf379ca0a1",
   "metadata": {},
   "outputs": [
    {
     "name": "stdout",
     "output_type": "stream",
     "text": [
      "babji aluri\n"
     ]
    }
   ],
   "source": [
    "print (fullname.lower())"
   ]
  },
  {
   "cell_type": "code",
   "execution_count": null,
   "id": "d61e5de7-7f68-46aa-855e-65991bafa6d6",
   "metadata": {},
   "outputs": [],
   "source": [
    "Continuation with data string types"
   ]
  },
  {
   "cell_type": "code",
   "execution_count": null,
   "id": "6f1af01f-3d21-43e2-8fc0-fda3d64aa615",
   "metadata": {},
   "outputs": [],
   "source": []
  },
  {
   "cell_type": "code",
   "execution_count": null,
   "id": "043c6956-6d5d-4fd6-9688-76ded3d84aa3",
   "metadata": {},
   "outputs": [],
   "source": [
    "Understanding concepts of f strings"
   ]
  },
  {
   "cell_type": "code",
   "execution_count": null,
   "id": "a637f6e7-e301-443c-9ed9-33c12889d951",
   "metadata": {},
   "outputs": [],
   "source": [
    "f \"custom message {place_holder_1} {place_holder_2} ... {place_holder_n}\""
   ]
  },
  {
   "cell_type": "code",
   "execution_count": null,
   "id": "2cf67a24-1405-4d2a-a86e-ef25e242566a",
   "metadata": {},
   "outputs": [],
   "source": [
    "#  req : I want full name ...?"
   ]
  },
  {
   "cell_type": "code",
   "execution_count": 11,
   "id": "ed028105-a139-404d-bb3a-c8a366198939",
   "metadata": {},
   "outputs": [
    {
     "name": "stdout",
     "output_type": "stream",
     "text": [
      "amin khan\n"
     ]
    }
   ],
   "source": [
    "first_name = \"amin\"\n",
    "last_name = \"khan\"\n",
    "full_name = f\"{first_name} {last_name}\"\n",
    "print (full_name)"
   ]
  },
  {
   "cell_type": "code",
   "execution_count": 30,
   "id": "4522bcb8-c2f4-46d7-ac89-68d0029fe525",
   "metadata": {},
   "outputs": [
    {
     "name": "stdout",
     "output_type": "stream",
     "text": [
      "Amin Khan\n"
     ]
    }
   ],
   "source": [
    "first_name = \"amin\"\n",
    "last_name = \"khan\"\n",
    "full_name = f\"{first_name} {last_name}\"\n",
    "print (full_name.title())"
   ]
  },
  {
   "cell_type": "code",
   "execution_count": 31,
   "id": "cd24f250-e955-41f6-8285-d05afc281451",
   "metadata": {},
   "outputs": [
    {
     "name": "stdout",
     "output_type": "stream",
     "text": [
      " keep up good work Amin Khan\n"
     ]
    }
   ],
   "source": [
    "message = f\" keep up good work {full_name.title ()}\"\n",
    "print (message)"
   ]
  },
  {
   "cell_type": "code",
   "execution_count": null,
   "id": "2fb3c280-6e42-443a-b8e3-905bc82445ab",
   "metadata": {},
   "outputs": [],
   "source": [
    "adding white spaces to strings"
   ]
  },
  {
   "cell_type": "code",
   "execution_count": 18,
   "id": "8ea72604-3e51-45d0-929d-4879737fca19",
   "metadata": {},
   "outputs": [
    {
     "name": "stdout",
     "output_type": "stream",
     "text": [
      "favourite programing language:pythonjavacc++swiftcobalpascal\n"
     ]
    }
   ],
   "source": [
    "print( \"favourite programing language:pythonjavacc++swiftcobalpascal\")"
   ]
  },
  {
   "cell_type": "code",
   "execution_count": 19,
   "id": "d06c4672-8f94-41a9-b6c4-9beb303a348d",
   "metadata": {},
   "outputs": [
    {
     "name": "stdout",
     "output_type": "stream",
     "text": [
      "favourite programing language:\n",
      "python\n",
      "java\n",
      "c\n",
      "c++\n",
      "swift\n",
      "cobal\n",
      "pascal\n"
     ]
    }
   ],
   "source": [
    "print( \"favourite programing language:\\npython\\njava\\nc\\nc++\\nswift\\ncobal\\npascal\")"
   ]
  },
  {
   "cell_type": "code",
   "execution_count": 20,
   "id": "95542800-0e5c-45c9-9784-d70cab820921",
   "metadata": {},
   "outputs": [
    {
     "name": "stdout",
     "output_type": "stream",
     "text": [
      "favourite programing language:\n",
      "\tpython\n",
      "\tjava\n",
      "\tc\n",
      "\tc++\n",
      "\tswift\n",
      "\tcobal\n",
      "\tpascal\n"
     ]
    }
   ],
   "source": [
    "print( \"favourite programing language:\\n\\tpython\\n\\tjava\\n\\tc\\n\\tc++\\n\\tswift\\n\\tcobal\\n\\tpascal\")"
   ]
  },
  {
   "cell_type": "code",
   "execution_count": 21,
   "id": "b127cb0c-fa1f-4671-8275-155f7331415a",
   "metadata": {},
   "outputs": [
    {
     "name": "stdout",
     "output_type": "stream",
     "text": [
      "The Zen of Python, by Tim Peters\n",
      "\n",
      "Beautiful is better than ugly.\n",
      "Explicit is better than implicit.\n",
      "Simple is better than complex.\n",
      "Complex is better than complicated.\n",
      "Flat is better than nested.\n",
      "Sparse is better than dense.\n",
      "Readability counts.\n",
      "Special cases aren't special enough to break the rules.\n",
      "Although practicality beats purity.\n",
      "Errors should never pass silently.\n",
      "Unless explicitly silenced.\n",
      "In the face of ambiguity, refuse the temptation to guess.\n",
      "There should be one-- and preferably only one --obvious way to do it.\n",
      "Although that way may not be obvious at first unless you're Dutch.\n",
      "Now is better than never.\n",
      "Although never is often better than *right* now.\n",
      "If the implementation is hard to explain, it's a bad idea.\n",
      "If the implementation is easy to explain, it may be a good idea.\n",
      "Namespaces are one honking great idea -- let's do more of those!\n"
     ]
    }
   ],
   "source": [
    "import this"
   ]
  },
  {
   "cell_type": "code",
   "execution_count": null,
   "id": "8aa86625-5baf-4f6a-a9ab-02b9ca6b308a",
   "metadata": {},
   "outputs": [],
   "source": [
    "Removing white spaces from string:"
   ]
  },
  {
   "cell_type": "code",
   "execution_count": 24,
   "id": "ab72c98e-1a43-47c6-8c9a-f6336efd2b9b",
   "metadata": {},
   "outputs": [
    {
     "name": "stdout",
     "output_type": "stream",
     "text": [
      " python\n"
     ]
    }
   ],
   "source": [
    "name = \" python\"\n",
    "print (name)"
   ]
  },
  {
   "cell_type": "code",
   "execution_count": 25,
   "id": "a2c5cae6-9680-4cc3-a6d3-64ee7c764497",
   "metadata": {},
   "outputs": [
    {
     "name": "stdout",
     "output_type": "stream",
     "text": [
      "python \n"
     ]
    }
   ],
   "source": [
    "name2= \"python \"\n",
    "print (name2)"
   ]
  },
  {
   "cell_type": "code",
   "execution_count": 26,
   "id": "ba64d1c6-37a2-4db1-8d2b-ea22218e6928",
   "metadata": {},
   "outputs": [
    {
     "data": {
      "text/plain": [
       "'python'"
      ]
     },
     "execution_count": 26,
     "metadata": {},
     "output_type": "execute_result"
    }
   ],
   "source": [
    "name.lstrip()"
   ]
  },
  {
   "cell_type": "code",
   "execution_count": 27,
   "id": "e2a35427-10f8-4f8d-a43b-b042c116fa26",
   "metadata": {},
   "outputs": [
    {
     "data": {
      "text/plain": [
       "'python'"
      ]
     },
     "execution_count": 27,
     "metadata": {},
     "output_type": "execute_result"
    }
   ],
   "source": [
    "name2.rstrip()"
   ]
  },
  {
   "cell_type": "code",
   "execution_count": 28,
   "id": "e1176ce7-7484-4a3d-9ad1-017649202c9c",
   "metadata": {},
   "outputs": [
    {
     "name": "stdout",
     "output_type": "stream",
     "text": [
      " python \n"
     ]
    }
   ],
   "source": [
    "name3 = \" python \"\n",
    "print (name3)"
   ]
  },
  {
   "cell_type": "code",
   "execution_count": 29,
   "id": "374d69db-4141-45ad-9fe3-e3b3f7678888",
   "metadata": {},
   "outputs": [
    {
     "data": {
      "text/plain": [
       "'python'"
      ]
     },
     "execution_count": 29,
     "metadata": {},
     "output_type": "execute_result"
    }
   ],
   "source": [
    "name3.strip()"
   ]
  },
  {
   "cell_type": "code",
   "execution_count": null,
   "id": "3db28814-e6cb-4282-b3fc-6bfdcd8d4840",
   "metadata": {},
   "outputs": [],
   "source": []
  },
  {
   "cell_type": "code",
   "execution_count": null,
   "id": "e37d01d0-9b79-4f74-bd22-0173a80e27a7",
   "metadata": {},
   "outputs": [],
   "source": [
    "intro to list of data types"
   ]
  },
  {
   "cell_type": "code",
   "execution_count": null,
   "id": "73356a06-e13d-438a-9799-0087cb545f9e",
   "metadata": {},
   "outputs": [],
   "source": [
    "defination: A list is a collection of items declared in a particilar order\n",
    "classification : its classsified as a mutable data type (flexible- can be edited)"
   ]
  },
  {
   "cell_type": "code",
   "execution_count": null,
   "id": "40a9b466-7360-4fbc-b2c1-8216682fa8d1",
   "metadata": {},
   "outputs": [],
   "source": [
    "how to define list datatype: []"
   ]
  },
  {
   "cell_type": "code",
   "execution_count": 2,
   "id": "3eb759d5-da66-4687-b296-cb095b444add",
   "metadata": {},
   "outputs": [],
   "source": [
    "students = ['likitha', 'keerthi', 'rane', 'amar', 'santosh', 'joseph']"
   ]
  },
  {
   "cell_type": "code",
   "execution_count": 3,
   "id": "08ec5ce4-b25c-4232-a744-fa9967987fa4",
   "metadata": {},
   "outputs": [
    {
     "name": "stdout",
     "output_type": "stream",
     "text": [
      "['likitha', 'keerthi', 'rane', 'amar', 'santosh', 'joseph']\n"
     ]
    }
   ],
   "source": [
    "print(students)"
   ]
  },
  {
   "cell_type": "code",
   "execution_count": 4,
   "id": "ce3f9d17-7044-432f-a857-0afe6d65fa79",
   "metadata": {},
   "outputs": [
    {
     "data": {
      "text/plain": [
       "list"
      ]
     },
     "execution_count": 4,
     "metadata": {},
     "output_type": "execute_result"
    }
   ],
   "source": [
    "type (students)"
   ]
  },
  {
   "cell_type": "code",
   "execution_count": null,
   "id": "371a84e7-a6ff-4b16-82e2-d760464724fd",
   "metadata": {},
   "outputs": [],
   "source": [
    "understabding concept of indexing 0,1,2,3,4"
   ]
  },
  {
   "cell_type": "code",
   "execution_count": null,
   "id": "25285a65-c68f-485c-9109-47a3c1d878ce",
   "metadata": {},
   "outputs": [],
   "source": [
    "#req want to access name of likitha on the output .....?"
   ]
  },
  {
   "cell_type": "code",
   "execution_count": 8,
   "id": "84e32e49-43eb-4a4f-8d77-ecdd9d24f4be",
   "metadata": {},
   "outputs": [
    {
     "name": "stdout",
     "output_type": "stream",
     "text": [
      "likitha\n"
     ]
    }
   ],
   "source": [
    "print (students[0])"
   ]
  },
  {
   "cell_type": "code",
   "execution_count": 10,
   "id": "c6ad351c-5dad-47b4-9bb0-80505aa56bb0",
   "metadata": {},
   "outputs": [
    {
     "name": "stdout",
     "output_type": "stream",
     "text": [
      "Likitha\n"
     ]
    }
   ],
   "source": [
    "print (students[0].title())"
   ]
  },
  {
   "cell_type": "code",
   "execution_count": null,
   "id": "bb7e52d5-fdc7-4d15-9d44-673a56ac1c12",
   "metadata": {},
   "outputs": [],
   "source": [
    "1. How to add an elements to the list\n",
    "2. how to modify the elements in the list?\n",
    "3. how to delete the elements in the list?"
   ]
  },
  {
   "cell_type": "code",
   "execution_count": null,
   "id": "9ad7f04e-bd7e-4b5f-afe0-509faa08d960",
   "metadata": {},
   "outputs": [],
   "source": [
    "#req want to add babji to the list"
   ]
  },
  {
   "cell_type": "code",
   "execution_count": 11,
   "id": "517dbf38-66a0-4b94-aa58-e75b90001f96",
   "metadata": {},
   "outputs": [],
   "source": [
    "students.append ('babji')"
   ]
  },
  {
   "cell_type": "code",
   "execution_count": 12,
   "id": "dea17a00-9e0e-4502-a7c0-dfe3846c3f91",
   "metadata": {},
   "outputs": [
    {
     "name": "stdout",
     "output_type": "stream",
     "text": [
      "['likitha', 'keerthi', 'rane', 'amar', 'santosh', 'joseph', 'babji']\n"
     ]
    }
   ],
   "source": [
    "print(students)"
   ]
  },
  {
   "cell_type": "code",
   "execution_count": null,
   "id": "1da79a23-67d5-4427-91ba-33359a72a94b",
   "metadata": {},
   "outputs": [],
   "source": [
    "# req want to add mariya to 2nd index"
   ]
  },
  {
   "cell_type": "code",
   "execution_count": 13,
   "id": "cdc032be-9a32-46a7-9364-62e4efdba3b2",
   "metadata": {},
   "outputs": [],
   "source": [
    "students.insert (2,'mariya')"
   ]
  },
  {
   "cell_type": "code",
   "execution_count": 14,
   "id": "fc086c3d-b254-4e5c-9f98-7929b0b51c9d",
   "metadata": {},
   "outputs": [
    {
     "name": "stdout",
     "output_type": "stream",
     "text": [
      "['likitha', 'keerthi', 'mariya', 'rane', 'amar', 'santosh', 'joseph', 'babji']\n"
     ]
    }
   ],
   "source": [
    "print (students)"
   ]
  },
  {
   "cell_type": "code",
   "execution_count": 15,
   "id": "e40c019d-4829-4120-8f7f-decb817aeb21",
   "metadata": {},
   "outputs": [
    {
     "name": "stdout",
     "output_type": "stream",
     "text": [
      "mariya\n"
     ]
    }
   ],
   "source": [
    "print (students [2])"
   ]
  },
  {
   "cell_type": "code",
   "execution_count": null,
   "id": "7ec61e63-5703-4a09-9b6c-7de41a14beea",
   "metadata": {},
   "outputs": [],
   "source": [
    "interview question: difference between append & insert method in list... ?"
   ]
  },
  {
   "cell_type": "code",
   "execution_count": null,
   "id": "a0a4c255-fc5b-45cc-92fb-fd0d55c1855f",
   "metadata": {},
   "outputs": [],
   "source": [
    "#req modify name keerthi to karthik"
   ]
  },
  {
   "cell_type": "code",
   "execution_count": 26,
   "id": "d5523f9b-ea57-45c9-972f-1f33b27f7749",
   "metadata": {},
   "outputs": [],
   "source": [
    "students[1]=('karthik')"
   ]
  },
  {
   "cell_type": "raw",
   "id": "ec4191c0-4e0c-4c55-8c1b-8b17a2aceec6",
   "metadata": {},
   "source": [
    "print (students)"
   ]
  },
  {
   "cell_type": "code",
   "execution_count": null,
   "id": "95218c6f-ba37-4e54-b26f-b8e27042fd79",
   "metadata": {},
   "outputs": [],
   "source": [
    "how to delete elements in list"
   ]
  },
  {
   "cell_type": "code",
   "execution_count": null,
   "id": "400b160a-6c9a-46aa-8b04-f8f372b1f4d3",
   "metadata": {},
   "outputs": [],
   "source": [
    "#req want to delete rane in above list"
   ]
  },
  {
   "cell_type": "code",
   "execution_count": 20,
   "id": "7a2218f5-06bc-4ff5-8e28-0f4f5807cff1",
   "metadata": {},
   "outputs": [],
   "source": [
    "del students[3]"
   ]
  },
  {
   "cell_type": "code",
   "execution_count": 21,
   "id": "f835c084-cf8e-4db5-870c-9bd17099a31f",
   "metadata": {},
   "outputs": [
    {
     "name": "stdout",
     "output_type": "stream",
     "text": [
      "['likitha', 'karthik', 'mariya', 'amar', 'santosh', 'joseph', 'babji']\n"
     ]
    }
   ],
   "source": [
    "print (students)"
   ]
  },
  {
   "cell_type": "code",
   "execution_count": null,
   "id": "d734648b-93a6-47d7-b0dc-59691f439a4e",
   "metadata": {},
   "outputs": [],
   "source": []
  },
  {
   "cell_type": "code",
   "execution_count": null,
   "id": "3c0bed80-f9e6-478d-9304-140574181f26",
   "metadata": {},
   "outputs": [],
   "source": [
    "Organizing DataType:"
   ]
  },
  {
   "cell_type": "code",
   "execution_count": 1,
   "id": "4f16d53d-7578-4527-ab8c-7ea296a29173",
   "metadata": {},
   "outputs": [],
   "source": [
    "cars=['kia', 'maruti','audi','toyota','benz','bmw']"
   ]
  },
  {
   "cell_type": "code",
   "execution_count": 2,
   "id": "f13d77bf-8077-4bd2-9bc9-b0815c702eed",
   "metadata": {},
   "outputs": [
    {
     "name": "stdout",
     "output_type": "stream",
     "text": [
      "['kia', 'maruti', 'audi', 'toyota', 'benz', 'bmw']\n"
     ]
    }
   ],
   "source": [
    "print (cars)"
   ]
  },
  {
   "cell_type": "code",
   "execution_count": null,
   "id": "138f9bbd-5de1-407f-a7ed-75dc33a90bba",
   "metadata": {},
   "outputs": [],
   "source": [
    "#req : organize list in alphabetical order A-Z"
   ]
  },
  {
   "cell_type": "code",
   "execution_count": null,
   "id": "abf6af72-8a21-4ae1-b6ab-f10552f90810",
   "metadata": {},
   "outputs": [],
   "source": [
    "# 2 Approaches :\n",
    "1. Temporary approach==>original order of list ==> sorted\n",
    "2. permanent : All changes applied permanently ==> sort"
   ]
  },
  {
   "cell_type": "code",
   "execution_count": 3,
   "id": "5d27b532-00b8-4943-b3b4-95d2f373adbf",
   "metadata": {},
   "outputs": [
    {
     "name": "stdout",
     "output_type": "stream",
     "text": [
      "['audi', 'benz', 'bmw', 'kia', 'maruti', 'toyota']\n"
     ]
    }
   ],
   "source": [
    "print(sorted (cars))"
   ]
  },
  {
   "cell_type": "code",
   "execution_count": 4,
   "id": "cbc6dbca-bba3-4025-91ea-2572158aa749",
   "metadata": {},
   "outputs": [
    {
     "name": "stdout",
     "output_type": "stream",
     "text": [
      "['kia', 'maruti', 'audi', 'toyota', 'benz', 'bmw']\n"
     ]
    }
   ],
   "source": [
    "print (cars)  Original Order"
   ]
  },
  {
   "cell_type": "raw",
   "id": "3d5feddb-0169-4709-a8b7-5bad85635148",
   "metadata": {},
   "source": [
    "# benz, bmw ==> b,b e,m"
   ]
  },
  {
   "cell_type": "code",
   "execution_count": 5,
   "id": "19e98c42-1e21-4151-bf64-b37453a1f814",
   "metadata": {},
   "outputs": [],
   "source": [
    "cars.sort() "
   ]
  },
  {
   "cell_type": "code",
   "execution_count": 7,
   "id": "1abc5d7f-88d2-4fd0-b39f-04e6705c0f2b",
   "metadata": {},
   "outputs": [
    {
     "name": "stdout",
     "output_type": "stream",
     "text": [
      "['audi', 'benz', 'bmw', 'kia', 'maruti', 'toyota']\n"
     ]
    }
   ],
   "source": [
    "print (cars)"
   ]
  },
  {
   "cell_type": "code",
   "execution_count": null,
   "id": "96d067de-1bac-45b9-8dee-70fd15f90261",
   "metadata": {},
   "outputs": [],
   "source": [
    "Interview Question: Difference between sorted & sort method in a list"
   ]
  },
  {
   "cell_type": "code",
   "execution_count": 8,
   "id": "86b7d4b0-668f-4965-97bd-bf3b02cc3815",
   "metadata": {},
   "outputs": [
    {
     "data": {
      "text/plain": [
       "6"
      ]
     },
     "execution_count": 8,
     "metadata": {},
     "output_type": "execute_result"
    }
   ],
   "source": [
    "len(cars) "
   ]
  },
  {
   "cell_type": "code",
   "execution_count": null,
   "id": "a7b6a377-0efb-452a-b8b3-ab00af37c3ea",
   "metadata": {},
   "outputs": [],
   "source": [
    "# req reverse list Z to A"
   ]
  },
  {
   "cell_type": "code",
   "execution_count": 11,
   "id": "512c84c1-94e5-4cde-95a7-fa75b332e879",
   "metadata": {},
   "outputs": [],
   "source": [
    "cars.reverse()"
   ]
  },
  {
   "cell_type": "raw",
   "id": "b8ba728a-0e12-430f-98ac-fe6986a1af9a",
   "metadata": {},
   "source": [
    "print(cars)"
   ]
  },
  {
   "cell_type": "code",
   "execution_count": null,
   "id": "64b96104-c4c6-47ad-a350-f6ae641db66c",
   "metadata": {},
   "outputs": [],
   "source": [
    "# Slicing the list data type"
   ]
  },
  {
   "cell_type": "code",
   "execution_count": 12,
   "id": "441e196d-41e5-4b3b-8f55-85cf9a7d4729",
   "metadata": {},
   "outputs": [],
   "source": [
    "students=['asha', 'litikha', 'naveed', 'joseph', 'kiran', 'murthy']"
   ]
  },
  {
   "cell_type": "code",
   "execution_count": 13,
   "id": "a391d0bd-6f61-440b-a1bb-502ba702de12",
   "metadata": {},
   "outputs": [
    {
     "name": "stdout",
     "output_type": "stream",
     "text": [
      "['asha', 'litikha', 'naveed', 'joseph', 'kiran', 'murthy']\n"
     ]
    }
   ],
   "source": [
    "print (students)"
   ]
  },
  {
   "cell_type": "code",
   "execution_count": null,
   "id": "2b390228-f446-4460-b379-be6ad6746cdd",
   "metadata": {},
   "outputs": [],
   "source": [
    "# general syntax of slicing\n",
    "start_value: Stop_value: stop_count]\n",
    "Note: Stop is always exchange to include the stop value increase the index by +1"
   ]
  },
  {
   "cell_type": "code",
   "execution_count": null,
   "id": "da74dfc0-fada-4777-afff-c1e67e3d2735",
   "metadata": {},
   "outputs": [],
   "source": [
    "#req want to include asha & lithika in the slice"
   ]
  },
  {
   "cell_type": "code",
   "execution_count": 14,
   "id": "cc90f460-1e47-48d7-8ee1-f408407bb570",
   "metadata": {},
   "outputs": [
    {
     "name": "stdout",
     "output_type": "stream",
     "text": [
      "['asha']\n"
     ]
    }
   ],
   "source": [
    "print(students[0:1])"
   ]
  },
  {
   "cell_type": "code",
   "execution_count": 15,
   "id": "9152547c-0f54-4c3d-a732-d3f729fe7219",
   "metadata": {},
   "outputs": [
    {
     "name": "stdout",
     "output_type": "stream",
     "text": [
      "['asha', 'litikha']\n"
     ]
    }
   ],
   "source": [
    "print(students[0:2])"
   ]
  },
  {
   "cell_type": "code",
   "execution_count": null,
   "id": "7444e739-9b8c-4b34-9827-34e4ffab8c99",
   "metadata": {},
   "outputs": [],
   "source": [
    "# naveed & joseph include"
   ]
  },
  {
   "cell_type": "code",
   "execution_count": 16,
   "id": "5db7a748-6cf9-44dd-aa46-be3da4427e8b",
   "metadata": {},
   "outputs": [
    {
     "name": "stdout",
     "output_type": "stream",
     "text": [
      "['naveed', 'joseph']\n"
     ]
    }
   ],
   "source": [
    "print(students[2:4])"
   ]
  },
  {
   "cell_type": "code",
   "execution_count": null,
   "id": "90f1b95e-b675-4b08-a910-7e57479975c9",
   "metadata": {},
   "outputs": [],
   "source": [
    "# kiran & Murthy"
   ]
  },
  {
   "cell_type": "code",
   "execution_count": 17,
   "id": "cabc3a12-8892-4841-805e-676d47e0a859",
   "metadata": {},
   "outputs": [
    {
     "name": "stdout",
     "output_type": "stream",
     "text": [
      "['kiran', 'murthy']\n"
     ]
    }
   ],
   "source": [
    "print(students[4:6])"
   ]
  },
  {
   "cell_type": "code",
   "execution_count": 18,
   "id": "af5d1ace-3ba2-40f9-b490-bb9e0abcd1fc",
   "metadata": {},
   "outputs": [
    {
     "name": "stdout",
     "output_type": "stream",
     "text": [
      "['asha', 'naveed', 'kiran']\n"
     ]
    }
   ],
   "source": [
    "print(students[0:6:2])"
   ]
  },
  {
   "cell_type": "code",
   "execution_count": 19,
   "id": "5dfee2d1-562b-48e7-8fd8-7b7ab57a6e76",
   "metadata": {},
   "outputs": [
    {
     "name": "stdout",
     "output_type": "stream",
     "text": [
      "['asha', 'joseph']\n"
     ]
    }
   ],
   "source": [
    "print(students[0:6:3])"
   ]
  },
  {
   "cell_type": "code",
   "execution_count": 20,
   "id": "5f80ba03-cc68-48ba-aa5b-37cce3ab174d",
   "metadata": {},
   "outputs": [
    {
     "name": "stdout",
     "output_type": "stream",
     "text": [
      "['asha', 'kiran']\n"
     ]
    }
   ],
   "source": [
    "print(students[0:6:4])"
   ]
  },
  {
   "cell_type": "code",
   "execution_count": null,
   "id": "ae6deb22-f563-467e-9e6a-105adda2cd51",
   "metadata": {},
   "outputs": [],
   "source": []
  },
  {
   "cell_type": "code",
   "execution_count": null,
   "id": "4bda2ed5-2110-4980-9203-47aee6195fd8",
   "metadata": {},
   "outputs": [],
   "source": [
    "Intro to Looping Statements:"
   ]
  },
  {
   "cell_type": "code",
   "execution_count": 5,
   "id": "0a13019d-5f20-488f-bcda-d57f3428f19b",
   "metadata": {},
   "outputs": [],
   "source": [
    "students = [\"danish\", \"kumar\",\"naveen\", \"tanya\", \"likitha\", \"somaiya\"]"
   ]
  },
  {
   "cell_type": "code",
   "execution_count": 6,
   "id": "e251be00-f91e-4ec5-94f8-d01d9e9d7752",
   "metadata": {},
   "outputs": [
    {
     "name": "stdout",
     "output_type": "stream",
     "text": [
      "['danish', 'kumar', 'naveen', 'tanya', 'likitha', 'somaiya']\n"
     ]
    }
   ],
   "source": [
    "print(students)"
   ]
  },
  {
   "cell_type": "code",
   "execution_count": null,
   "id": "f25ce6cd-de38-4200-bb69-7be9d00e51de",
   "metadata": {},
   "outputs": [],
   "source": [
    "#Req Want to apprecite Danish"
   ]
  },
  {
   "cell_type": "code",
   "execution_count": 8,
   "id": "9cfd734c-7342-402e-bcde-258c64f1e083",
   "metadata": {},
   "outputs": [],
   "source": [
    "message=f\"keep up the good work,{students[0].title()}\""
   ]
  },
  {
   "cell_type": "code",
   "execution_count": 9,
   "id": "630c0a64-b9b1-4da5-8d43-cb78e573f772",
   "metadata": {},
   "outputs": [
    {
     "name": "stdout",
     "output_type": "stream",
     "text": [
      "keep up the good work,Danish\n"
     ]
    }
   ],
   "source": [
    "print(message)"
   ]
  },
  {
   "cell_type": "code",
   "execution_count": 10,
   "id": "48fb9c8d-7733-403b-b767-f459efba1352",
   "metadata": {},
   "outputs": [],
   "source": [
    "message=f\"keep up the good work,{students[1].title()}\""
   ]
  },
  {
   "cell_type": "code",
   "execution_count": 11,
   "id": "8c41bfa6-1d91-43e3-9f08-9cfc1200d891",
   "metadata": {},
   "outputs": [
    {
     "name": "stdout",
     "output_type": "stream",
     "text": [
      "keep up the good work,Kumar\n"
     ]
    }
   ],
   "source": [
    "print(message)"
   ]
  },
  {
   "cell_type": "code",
   "execution_count": null,
   "id": "00bee7b8-f507-4451-a647-84a251d06679",
   "metadata": {},
   "outputs": [],
   "source": [
    "#Genral Syntax of a far loop :"
   ]
  },
  {
   "cell_type": "code",
   "execution_count": null,
   "id": "0423ce49-5b4e-465e-943d-aeb4c14bdd3d",
   "metadata": {},
   "outputs": [],
   "source": [
    "for tempvar in mainvar:\n",
    "    print(tempvar)       # indentation"
   ]
  },
  {
   "cell_type": "code",
   "execution_count": 13,
   "id": "4a9eee1a-0633-4eff-9e52-dd5e12f3f757",
   "metadata": {},
   "outputs": [
    {
     "name": "stdout",
     "output_type": "stream",
     "text": [
      "keep the good work, danish\n",
      "keep the good work, kumar\n",
      "keep the good work, naveen\n",
      "keep the good work, tanya\n",
      "keep the good work, likitha\n",
      "keep the good work, somaiya\n"
     ]
    }
   ],
   "source": [
    "for x in students:\n",
    "    print(f\"keep the good work, {x}\")"
   ]
  },
  {
   "cell_type": "code",
   "execution_count": null,
   "id": "94eca85d-c218-44c7-8496-5963b8fe1f8d",
   "metadata": {},
   "outputs": [],
   "source": [
    "for a in students:\n",
    "    print(a)"
   ]
  },
  {
   "cell_type": "code",
   "execution_count": 16,
   "id": "cac589d6-d648-4e90-82ff-ebcf8611fd9d",
   "metadata": {},
   "outputs": [
    {
     "name": "stdout",
     "output_type": "stream",
     "text": [
      "keep the good work, danish\n",
      "do submit the practice work, danish\n",
      "keep the good work, kumar\n",
      "do submit the practice work, kumar\n",
      "keep the good work, naveen\n",
      "do submit the practice work, naveen\n",
      "keep the good work, tanya\n",
      "do submit the practice work, tanya\n",
      "keep the good work, likitha\n",
      "do submit the practice work, likitha\n",
      "keep the good work, somaiya\n",
      "do submit the practice work, somaiya\n"
     ]
    }
   ],
   "source": [
    "for x in students:\n",
    "    print(f\"keep the good work, {x}\")\n",
    "    print(f\"do submit the practice work, {x}\")"
   ]
  },
  {
   "cell_type": "code",
   "execution_count": 17,
   "id": "e7096419-b0cd-457d-a5ea-adecc16bdbb9",
   "metadata": {},
   "outputs": [
    {
     "name": "stdout",
     "output_type": "stream",
     "text": [
      "keep the good work, danish\n",
      "do submit the practice work, danish\n",
      "\n",
      "keep the good work, kumar\n",
      "do submit the practice work, kumar\n",
      "\n",
      "keep the good work, naveen\n",
      "do submit the practice work, naveen\n",
      "\n",
      "keep the good work, tanya\n",
      "do submit the practice work, tanya\n",
      "\n",
      "keep the good work, likitha\n",
      "do submit the practice work, likitha\n",
      "\n",
      "keep the good work, somaiya\n",
      "do submit the practice work, somaiya\n",
      "\n"
     ]
    }
   ],
   "source": [
    "for x in students:\n",
    "    print(f\"keep the good work, {x}\")\n",
    "    print(f\"do submit the practice work, {x}\\n\")"
   ]
  },
  {
   "cell_type": "code",
   "execution_count": 18,
   "id": "16163250-071b-4032-b3eb-616812235485",
   "metadata": {},
   "outputs": [
    {
     "name": "stdout",
     "output_type": "stream",
     "text": [
      "thank you all for joining\n"
     ]
    }
   ],
   "source": [
    "print(\"thank you all for joining\")"
   ]
  },
  {
   "cell_type": "code",
   "execution_count": null,
   "id": "64af3dcd-573c-4a82-bc61-93ea5b88c323",
   "metadata": {},
   "outputs": [],
   "source": [
    "Intro to dictionary datatypes:"
   ]
  },
  {
   "cell_type": "code",
   "execution_count": null,
   "id": "20e81edc-c87c-41e9-9fd9-1f2f081265cb",
   "metadata": {},
   "outputs": [],
   "source": [
    "Defination: A dictionary is combination of key value pairs\n",
    "classification: classified in mutable datatype \n",
    "how to create dictionary==> ? {}"
   ]
  },
  {
   "cell_type": "code",
   "execution_count": null,
   "id": "db890631-320e-4c94-86f9-bf28e3ab5ae4",
   "metadata": {},
   "outputs": [],
   "source": [
    "# require to create sample dictionary:"
   ]
  },
  {
   "cell_type": "code",
   "execution_count": 19,
   "id": "083611b2-74e2-47b6-8dfe-c4be7b3426d1",
   "metadata": {},
   "outputs": [],
   "source": [
    "alien={'color':'green','points':5}"
   ]
  },
  {
   "cell_type": "code",
   "execution_count": 20,
   "id": "4ba29316-76e8-4e9d-8b62-df17ef3c342a",
   "metadata": {},
   "outputs": [
    {
     "name": "stdout",
     "output_type": "stream",
     "text": [
      "{'color': 'green', 'points': 5}\n"
     ]
    }
   ],
   "source": [
    "print (alien)"
   ]
  },
  {
   "cell_type": "code",
   "execution_count": 23,
   "id": "f4ceb4f4-0ece-4fa5-ae65-9730399e735a",
   "metadata": {},
   "outputs": [
    {
     "data": {
      "text/plain": [
       "dict"
      ]
     },
     "execution_count": 23,
     "metadata": {},
     "output_type": "execute_result"
    }
   ],
   "source": [
    "type (alien)"
   ]
  },
  {
   "cell_type": "raw",
   "id": "3448e955-c175-42a9-9505-4f4bac03e6e2",
   "metadata": {},
   "source": [
    "# req : add level\n",
    "1"
   ]
  },
  {
   "cell_type": "code",
   "execution_count": 24,
   "id": "5854978d-9833-4169-b1f5-aea4de1270df",
   "metadata": {},
   "outputs": [],
   "source": [
    "alien ['level']=\"level-1\""
   ]
  },
  {
   "cell_type": "code",
   "execution_count": 25,
   "id": "43a4c61f-06da-4a87-9489-ecd31c270814",
   "metadata": {},
   "outputs": [
    {
     "name": "stdout",
     "output_type": "stream",
     "text": [
      "{'color': 'green', 'points': 5, 'level': 'level-1'}\n"
     ]
    }
   ],
   "source": [
    "print(alien)"
   ]
  },
  {
   "cell_type": "code",
   "execution_count": null,
   "id": "a19a4816-92d0-4da1-b758-eafc2902efa4",
   "metadata": {},
   "outputs": [],
   "source": [
    "#req: how to access values\""
   ]
  },
  {
   "cell_type": "code",
   "execution_count": 26,
   "id": "f45af685-cd1e-4c0c-bc1b-97a0ea5bdcb8",
   "metadata": {},
   "outputs": [
    {
     "name": "stdout",
     "output_type": "stream",
     "text": [
      "green\n"
     ]
    }
   ],
   "source": [
    "print(alien['color'])"
   ]
  },
  {
   "cell_type": "code",
   "execution_count": 28,
   "id": "f8214caf-d945-4613-a129-72d3d6e28905",
   "metadata": {},
   "outputs": [
    {
     "name": "stdout",
     "output_type": "stream",
     "text": [
      "5\n"
     ]
    }
   ],
   "source": [
    "print (alien['points'])"
   ]
  },
  {
   "cell_type": "code",
   "execution_count": null,
   "id": "f4804d7d-37c9-49e5-9b33-373c0bf482bc",
   "metadata": {},
   "outputs": [],
   "source": [
    "#give vlaues & get key==>"
   ]
  },
  {
   "cell_type": "code",
   "execution_count": 31,
   "id": "a5c1dfe6-1c8b-40d2-88f3-a577c0984ca3",
   "metadata": {},
   "outputs": [
    {
     "ename": "KeyError",
     "evalue": "'green'",
     "output_type": "error",
     "traceback": [
      "\u001b[1;31m---------------------------------------------------------------------------\u001b[0m",
      "\u001b[1;31mKeyError\u001b[0m                                  Traceback (most recent call last)",
      "Cell \u001b[1;32mIn[31], line 1\u001b[0m\n\u001b[1;32m----> 1\u001b[0m \u001b[38;5;28mprint\u001b[39m(alien[\u001b[38;5;124m\"\u001b[39m\u001b[38;5;124mgreen\u001b[39m\u001b[38;5;124m\"\u001b[39m])\n",
      "\u001b[1;31mKeyError\u001b[0m: 'green'"
     ]
    }
   ],
   "source": [
    "print(alien['green'])"
   ]
  },
  {
   "cell_type": "code",
   "execution_count": null,
   "id": "e27f7c5a-9ef2-408a-9efa-43a99327d995",
   "metadata": {},
   "outputs": [],
   "source": [
    "Create User Account"
   ]
  },
  {
   "cell_type": "code",
   "execution_count": 33,
   "id": "bad5442c-1919-4f54-8b2e-6a8219a4310f",
   "metadata": {},
   "outputs": [],
   "source": [
    "user_account= {'username': 'codetraining', 'firstname': 'code', 'lastname': 'train', 'dob':'_', 'pwd':'542'}"
   ]
  },
  {
   "cell_type": "raw",
   "id": "4925aa14-a9aa-4d73-82f7-af3e1d9bd446",
   "metadata": {},
   "source": [
    "print(user_account)"
   ]
  },
  {
   "cell_type": "code",
   "execution_count": null,
   "id": "e5116bae-6dd5-49c6-87ca-f988c3f4dfa1",
   "metadata": {},
   "outputs": [],
   "source": []
  }
 ],
 "metadata": {
  "kernelspec": {
   "display_name": "Python 3 (ipykernel)",
   "language": "python",
   "name": "python3"
  },
  "language_info": {
   "codemirror_mode": {
    "name": "ipython",
    "version": 3
   },
   "file_extension": ".py",
   "mimetype": "text/x-python",
   "name": "python",
   "nbconvert_exporter": "python",
   "pygments_lexer": "ipython3",
   "version": "3.11.7"
  }
 },
 "nbformat": 4,
 "nbformat_minor": 5
}
