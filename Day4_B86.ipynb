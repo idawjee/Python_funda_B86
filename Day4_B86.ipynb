{
 "cells": [
  {
   "cell_type": "markdown",
   "id": "f73d9204-872e-41df-8c1d-1d2adf2dee52",
   "metadata": {},
   "source": [
    "# ll "
   ]
  },
  {
   "cell_type": "code",
   "execution_count": 1,
   "id": "6580d245-247a-4158-ac85-38c2f6365de5",
   "metadata": {},
   "outputs": [
    {
     "name": "stdout",
     "output_type": "stream",
     "text": [
      "Hello all welcome to python programming world\n"
     ]
    }
   ],
   "source": [
    "print(\"Hello all welcome to python programming world\")"
   ]
  },
  {
   "cell_type": "code",
   "execution_count": null,
   "id": "5fa705bb-0c8b-4625-b727-d3d84c43773c",
   "metadata": {},
   "outputs": [],
   "source": [
    "understanding variables"
   ]
  },
  {
   "cell_type": "code",
   "execution_count": 26,
   "id": "babff552-0b42-444d-b333-a75e737e3dbc",
   "metadata": {},
   "outputs": [
    {
     "name": "stdout",
     "output_type": "stream",
     "text": [
      "5\n"
     ]
    }
   ],
   "source": [
    "x = 2\n",
    "y = 3\n",
    "z = x+y\n",
    "print (z)"
   ]
  },
  {
   "cell_type": "raw",
   "id": "deae382e-23bc-48a0-b1ae-7dd7bf50a777",
   "metadata": {},
   "source": [
    "Rules for understanding variable"
   ]
  },
  {
   "cell_type": "code",
   "execution_count": null,
   "id": "91592cf9-0de3-4c03-8b0f-cc4e428032b3",
   "metadata": {},
   "outputs": [],
   "source": [
    "Rule 1 No name spaces while declaring varibales eg first name X"
   ]
  },
  {
   "cell_type": "code",
   "execution_count": 23,
   "id": "9d809c8e-99ed-443d-9dc1-0da113ee302c",
   "metadata": {},
   "outputs": [
    {
     "name": "stdout",
     "output_type": "stream",
     "text": [
      "Fayaz\n"
     ]
    }
   ],
   "source": [
    "firstname = \"Fayaz\"\n",
    "print (firstname)"
   ]
  },
  {
   "cell_type": "code",
   "execution_count": null,
   "id": "851deb95-aad1-4271-a8bf-74b69692ba31",
   "metadata": {},
   "outputs": [],
   "source": [
    "Rule 2 A variabe should not start with number **\n",
    "1name it should be name1"
   ]
  },
  {
   "cell_type": "code",
   "execution_count": null,
   "id": "14183777-ab80-4c7a-8b0e-dac5ac5074ba",
   "metadata": {},
   "outputs": [],
   "source": [
    "Rule 3 Avariable name should not contain special character\n",
    "@ # $ % &"
   ]
  },
  {
   "cell_type": "code",
   "execution_count": null,
   "id": "5f7ce9dd-9176-447e-be67-07bcb3f89fcb",
   "metadata": {},
   "outputs": [],
   "source": [
    "Introduction to Data types \n",
    "1 String ==> str\n",
    "2. Integer ==> int  & floats (decimal) float (0.1, 0.2)\n",
    "3. List ==> list\n",
    "4. tuples ==> tuple\n",
    "5 dictionaries ==> dict"
   ]
  },
  {
   "cell_type": "code",
   "execution_count": null,
   "id": "04a27d06-2a42-4ca7-814f-98ddef940289",
   "metadata": {},
   "outputs": [],
   "source": [
    "Classification of data types broadly classified in 2 catagories \n",
    "1. mutable can edit alter flexible in nature\n",
    "2. immutable can not edit alter fixed in nature"
   ]
  },
  {
   "cell_type": "code",
   "execution_count": null,
   "id": "39b0e686-f455-4c00-89a1-ed24220158b2",
   "metadata": {},
   "outputs": [],
   "source": [
    "hoe to detect the string data type?\n",
    "approach 1 single quote\n",
    "approach 2 double quote"
   ]
  },
  {
   "cell_type": "code",
   "execution_count": 5,
   "id": "774a1bbe-c1e4-417f-b366-dc06ff25468e",
   "metadata": {},
   "outputs": [
    {
     "name": "stdout",
     "output_type": "stream",
     "text": [
      "Prasanna\n"
     ]
    }
   ],
   "source": [
    "name = 'Prasanna' # single quote\n",
    "print (name)"
   ]
  },
  {
   "cell_type": "code",
   "execution_count": null,
   "id": "c6f804fb-5dc3-4f12-b23d-1111ed494cb2",
   "metadata": {},
   "outputs": [],
   "source": []
  },
  {
   "cell_type": "code",
   "execution_count": 6,
   "id": "544a4208-de9e-4cdf-9c1a-3191602c2f2d",
   "metadata": {},
   "outputs": [
    {
     "name": "stdout",
     "output_type": "stream",
     "text": [
      "joseph\n"
     ]
    }
   ],
   "source": [
    "name2 = \"joseph\"\n",
    "print (name2)"
   ]
  },
  {
   "cell_type": "code",
   "execution_count": null,
   "id": "19946f8c-9413-4817-af26-594227955ea2",
   "metadata": {},
   "outputs": [],
   "source": [
    "Intro to Spring methods :"
   ]
  },
  {
   "cell_type": "code",
   "execution_count": 7,
   "id": "237cf51c-9359-43d5-8528-3449788c9a21",
   "metadata": {},
   "outputs": [
    {
     "data": {
      "text/plain": [
       "str"
      ]
     },
     "execution_count": 7,
     "metadata": {},
     "output_type": "execute_result"
    }
   ],
   "source": [
    "type (name)"
   ]
  },
  {
   "cell_type": "code",
   "execution_count": 8,
   "id": "5c8e4c78-74a9-46cf-a5fc-c03b3237781d",
   "metadata": {},
   "outputs": [
    {
     "name": "stdout",
     "output_type": "stream",
     "text": [
      "babji aluri\n"
     ]
    }
   ],
   "source": [
    "fullname = 'babji aluri'\n",
    "print (fullname)"
   ]
  },
  {
   "cell_type": "code",
   "execution_count": 10,
   "id": "3a6976af-7d84-46e6-9fe2-e36a9dc8a676",
   "metadata": {},
   "outputs": [
    {
     "name": "stdout",
     "output_type": "stream",
     "text": [
      "Babji Aluri\n"
     ]
    }
   ],
   "source": [
    "print(fullname.title())"
   ]
  },
  {
   "cell_type": "code",
   "execution_count": null,
   "id": "6234bdd4-86a1-47fa-a01a-cb9912280bc7",
   "metadata": {},
   "outputs": [],
   "source": [
    "All caps"
   ]
  },
  {
   "cell_type": "code",
   "execution_count": 13,
   "id": "916a1049-2300-4410-aed5-5bd65b6cbbc8",
   "metadata": {},
   "outputs": [
    {
     "name": "stdout",
     "output_type": "stream",
     "text": [
      "BABJI ALURI\n"
     ]
    }
   ],
   "source": [
    "print (fullname.upper())"
   ]
  },
  {
   "cell_type": "code",
   "execution_count": null,
   "id": "299c17bb-799d-4ce1-a273-63f99297aae3",
   "metadata": {},
   "outputs": [],
   "source": [
    "Lowercase"
   ]
  },
  {
   "cell_type": "code",
   "execution_count": 14,
   "id": "2a4fb679-ec68-4593-9fd6-6fcf379ca0a1",
   "metadata": {},
   "outputs": [
    {
     "name": "stdout",
     "output_type": "stream",
     "text": [
      "babji aluri\n"
     ]
    }
   ],
   "source": [
    "print (fullname.lower())"
   ]
  },
  {
   "cell_type": "code",
   "execution_count": null,
   "id": "d61e5de7-7f68-46aa-855e-65991bafa6d6",
   "metadata": {},
   "outputs": [],
   "source": [
    "Continuation with data string types"
   ]
  },
  {
   "cell_type": "code",
   "execution_count": null,
   "id": "6f1af01f-3d21-43e2-8fc0-fda3d64aa615",
   "metadata": {},
   "outputs": [],
   "source": []
  },
  {
   "cell_type": "code",
   "execution_count": null,
   "id": "043c6956-6d5d-4fd6-9688-76ded3d84aa3",
   "metadata": {},
   "outputs": [],
   "source": [
    "Understanding concepts of f strings"
   ]
  },
  {
   "cell_type": "code",
   "execution_count": null,
   "id": "a637f6e7-e301-443c-9ed9-33c12889d951",
   "metadata": {},
   "outputs": [],
   "source": [
    "f \"custom message {place_holder_1} {place_holder_2} ... {place_holder_n}\""
   ]
  },
  {
   "cell_type": "code",
   "execution_count": null,
   "id": "2cf67a24-1405-4d2a-a86e-ef25e242566a",
   "metadata": {},
   "outputs": [],
   "source": [
    "#  req : I want full name ...?"
   ]
  },
  {
   "cell_type": "code",
   "execution_count": 11,
   "id": "ed028105-a139-404d-bb3a-c8a366198939",
   "metadata": {},
   "outputs": [
    {
     "name": "stdout",
     "output_type": "stream",
     "text": [
      "amin khan\n"
     ]
    }
   ],
   "source": [
    "first_name = \"amin\"\n",
    "last_name = \"khan\"\n",
    "full_name = f\"{first_name} {last_name}\"\n",
    "print (full_name)"
   ]
  },
  {
   "cell_type": "code",
   "execution_count": 30,
   "id": "4522bcb8-c2f4-46d7-ac89-68d0029fe525",
   "metadata": {},
   "outputs": [
    {
     "name": "stdout",
     "output_type": "stream",
     "text": [
      "Amin Khan\n"
     ]
    }
   ],
   "source": [
    "first_name = \"amin\"\n",
    "last_name = \"khan\"\n",
    "full_name = f\"{first_name} {last_name}\"\n",
    "print (full_name.title())"
   ]
  },
  {
   "cell_type": "code",
   "execution_count": 31,
   "id": "cd24f250-e955-41f6-8285-d05afc281451",
   "metadata": {},
   "outputs": [
    {
     "name": "stdout",
     "output_type": "stream",
     "text": [
      " keep up good work Amin Khan\n"
     ]
    }
   ],
   "source": [
    "message = f\" keep up good work {full_name.title ()}\"\n",
    "print (message)"
   ]
  },
  {
   "cell_type": "code",
   "execution_count": null,
   "id": "2fb3c280-6e42-443a-b8e3-905bc82445ab",
   "metadata": {},
   "outputs": [],
   "source": [
    "adding white spaces to strings"
   ]
  },
  {
   "cell_type": "code",
   "execution_count": 18,
   "id": "8ea72604-3e51-45d0-929d-4879737fca19",
   "metadata": {},
   "outputs": [
    {
     "name": "stdout",
     "output_type": "stream",
     "text": [
      "favourite programing language:pythonjavacc++swiftcobalpascal\n"
     ]
    }
   ],
   "source": [
    "print( \"favourite programing language:pythonjavacc++swiftcobalpascal\")"
   ]
  },
  {
   "cell_type": "code",
   "execution_count": 19,
   "id": "d06c4672-8f94-41a9-b6c4-9beb303a348d",
   "metadata": {},
   "outputs": [
    {
     "name": "stdout",
     "output_type": "stream",
     "text": [
      "favourite programing language:\n",
      "python\n",
      "java\n",
      "c\n",
      "c++\n",
      "swift\n",
      "cobal\n",
      "pascal\n"
     ]
    }
   ],
   "source": [
    "print( \"favourite programing language:\\npython\\njava\\nc\\nc++\\nswift\\ncobal\\npascal\")"
   ]
  },
  {
   "cell_type": "code",
   "execution_count": 20,
   "id": "95542800-0e5c-45c9-9784-d70cab820921",
   "metadata": {},
   "outputs": [
    {
     "name": "stdout",
     "output_type": "stream",
     "text": [
      "favourite programing language:\n",
      "\tpython\n",
      "\tjava\n",
      "\tc\n",
      "\tc++\n",
      "\tswift\n",
      "\tcobal\n",
      "\tpascal\n"
     ]
    }
   ],
   "source": [
    "print( \"favourite programing language:\\n\\tpython\\n\\tjava\\n\\tc\\n\\tc++\\n\\tswift\\n\\tcobal\\n\\tpascal\")"
   ]
  },
  {
   "cell_type": "code",
   "execution_count": 21,
   "id": "b127cb0c-fa1f-4671-8275-155f7331415a",
   "metadata": {},
   "outputs": [
    {
     "name": "stdout",
     "output_type": "stream",
     "text": [
      "The Zen of Python, by Tim Peters\n",
      "\n",
      "Beautiful is better than ugly.\n",
      "Explicit is better than implicit.\n",
      "Simple is better than complex.\n",
      "Complex is better than complicated.\n",
      "Flat is better than nested.\n",
      "Sparse is better than dense.\n",
      "Readability counts.\n",
      "Special cases aren't special enough to break the rules.\n",
      "Although practicality beats purity.\n",
      "Errors should never pass silently.\n",
      "Unless explicitly silenced.\n",
      "In the face of ambiguity, refuse the temptation to guess.\n",
      "There should be one-- and preferably only one --obvious way to do it.\n",
      "Although that way may not be obvious at first unless you're Dutch.\n",
      "Now is better than never.\n",
      "Although never is often better than *right* now.\n",
      "If the implementation is hard to explain, it's a bad idea.\n",
      "If the implementation is easy to explain, it may be a good idea.\n",
      "Namespaces are one honking great idea -- let's do more of those!\n"
     ]
    }
   ],
   "source": [
    "import this"
   ]
  },
  {
   "cell_type": "code",
   "execution_count": null,
   "id": "8aa86625-5baf-4f6a-a9ab-02b9ca6b308a",
   "metadata": {},
   "outputs": [],
   "source": [
    "Removing white spaces from string:"
   ]
  },
  {
   "cell_type": "code",
   "execution_count": 24,
   "id": "ab72c98e-1a43-47c6-8c9a-f6336efd2b9b",
   "metadata": {},
   "outputs": [
    {
     "name": "stdout",
     "output_type": "stream",
     "text": [
      " python\n"
     ]
    }
   ],
   "source": [
    "name = \" python\"\n",
    "print (name)"
   ]
  },
  {
   "cell_type": "code",
   "execution_count": 25,
   "id": "a2c5cae6-9680-4cc3-a6d3-64ee7c764497",
   "metadata": {},
   "outputs": [
    {
     "name": "stdout",
     "output_type": "stream",
     "text": [
      "python \n"
     ]
    }
   ],
   "source": [
    "name2= \"python \"\n",
    "print (name2)"
   ]
  },
  {
   "cell_type": "code",
   "execution_count": 26,
   "id": "ba64d1c6-37a2-4db1-8d2b-ea22218e6928",
   "metadata": {},
   "outputs": [
    {
     "data": {
      "text/plain": [
       "'python'"
      ]
     },
     "execution_count": 26,
     "metadata": {},
     "output_type": "execute_result"
    }
   ],
   "source": [
    "name.lstrip()"
   ]
  },
  {
   "cell_type": "code",
   "execution_count": 27,
   "id": "e2a35427-10f8-4f8d-a43b-b042c116fa26",
   "metadata": {},
   "outputs": [
    {
     "data": {
      "text/plain": [
       "'python'"
      ]
     },
     "execution_count": 27,
     "metadata": {},
     "output_type": "execute_result"
    }
   ],
   "source": [
    "name2.rstrip()"
   ]
  },
  {
   "cell_type": "code",
   "execution_count": 28,
   "id": "e1176ce7-7484-4a3d-9ad1-017649202c9c",
   "metadata": {},
   "outputs": [
    {
     "name": "stdout",
     "output_type": "stream",
     "text": [
      " python \n"
     ]
    }
   ],
   "source": [
    "name3 = \" python \"\n",
    "print (name3)"
   ]
  },
  {
   "cell_type": "code",
   "execution_count": 29,
   "id": "374d69db-4141-45ad-9fe3-e3b3f7678888",
   "metadata": {},
   "outputs": [
    {
     "data": {
      "text/plain": [
       "'python'"
      ]
     },
     "execution_count": 29,
     "metadata": {},
     "output_type": "execute_result"
    }
   ],
   "source": [
    "name3.strip()"
   ]
  },
  {
   "cell_type": "code",
   "execution_count": null,
   "id": "3db28814-e6cb-4282-b3fc-6bfdcd8d4840",
   "metadata": {},
   "outputs": [],
   "source": []
  }
 ],
 "metadata": {
  "kernelspec": {
   "display_name": "Python 3 (ipykernel)",
   "language": "python",
   "name": "python3"
  },
  "language_info": {
   "codemirror_mode": {
    "name": "ipython",
    "version": 3
   },
   "file_extension": ".py",
   "mimetype": "text/x-python",
   "name": "python",
   "nbconvert_exporter": "python",
   "pygments_lexer": "ipython3",
   "version": "3.11.7"
  }
 },
 "nbformat": 4,
 "nbformat_minor": 5
}
