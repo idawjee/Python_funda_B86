{
 "cells": [
  {
   "cell_type": "code",
   "execution_count": null,
   "id": "6580d245-247a-4158-ac85-38c2f6365de5",
   "metadata": {},
   "outputs": [],
   "source": [
    "print(\"Hello "
   ]
  },
  {
   "cell_type": "code",
   "execution_count": null,
   "id": "5fa705bb-0c8b-4625-b727-d3d84c43773c",
   "metadata": {},
   "outputs": [],
   "source": []
  },
  {
   "cell_type": "code",
   "execution_count": null,
   "id": "babff552-0b42-444d-b333-a75e737e3dbc",
   "metadata": {},
   "outputs": [],
   "source": []
  }
 ],
 "metadata": {
  "kernelspec": {
   "display_name": "Python 3 (ipykernel)",
   "language": "python",
   "name": "python3"
  },
  "language_info": {
   "codemirror_mode": {
    "name": "ipython",
    "version": 3
   },
   "file_extension": ".py",
   "mimetype": "text/x-python",
   "name": "python",
   "nbconvert_exporter": "python",
   "pygments_lexer": "ipython3",
   "version": "3.11.7"
  }
 },
 "nbformat": 4,
 "nbformat_minor": 5
}
